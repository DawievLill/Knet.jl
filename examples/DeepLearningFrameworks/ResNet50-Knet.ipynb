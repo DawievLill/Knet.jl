{
 "cells": [
  {
   "cell_type": "code",
   "execution_count": 1,
   "metadata": {},
   "outputs": [],
   "source": [
    "# GPU: 32*40 in 8.00s = 160/s\n",
    "# CPU: 32*8 in 115.0s = 2/s"
   ]
  },
  {
   "cell_type": "code",
   "execution_count": 2,
   "metadata": {},
   "outputs": [],
   "source": [
    "# using Pkg; pkg\"add Knet\"\n",
    "using Knet\n",
    "include(Knet.dir(\"examples\",\"resnet\",\"resnetlib.jl\"))\n",
    "using .ResNetLib: resnet50init, resnet50"
   ]
  },
  {
   "cell_type": "code",
   "execution_count": 3,
   "metadata": {},
   "outputs": [
    {
     "name": "stdout",
     "output_type": "stream",
     "text": [
      "OS: Linux\n",
      "Julia: 1.5.0\n",
      "Knet: 1.4.0\n",
      "Cores: 12\n",
      "GPUs: GeForce GTX 1060 with Max-Q Design\n"
     ]
    }
   ],
   "source": [
    "println(\"OS: \", Sys.KERNEL)\n",
    "println(\"Julia: \", VERSION)\n",
    "println(\"Knet: \", Pkg.dependencies()[Base.UUID(\"1902f260-5fb4-5aff-8c31-6271790ab950\")].version)\n",
    "println(\"Cores: \", chop(read(pipeline(`cat /proc/cpuinfo`,`grep processor`,`wc -l`),String)))\n",
    "print(\"GPUs: \", read(`nvidia-smi --query-gpu=gpu_name --format=csv,noheader`,String))"
   ]
  },
  {
   "cell_type": "code",
   "execution_count": 4,
   "metadata": {},
   "outputs": [
    {
     "data": {
      "text/plain": [
       "8"
      ]
     },
     "execution_count": 4,
     "metadata": {},
     "output_type": "execute_result"
    }
   ],
   "source": [
    "const BATCH_SIZE = 32\n",
    "const RESNET_FEATURES = 2048\n",
    "const BATCHES_GPU = 40\n",
    "const BATCHES_CPU = 8"
   ]
  },
  {
   "cell_type": "code",
   "execution_count": 5,
   "metadata": {},
   "outputs": [
    {
     "data": {
      "text/plain": [
       "fakedata (generic function with 1 method)"
      ]
     },
     "execution_count": 5,
     "metadata": {},
     "output_type": "execute_result"
    }
   ],
   "source": [
    "# Create batches of fake data\n",
    "function fakedata(batches; atype=KnetArray)\n",
    "    x = rand(Float32, 224, 224, 3, BATCH_SIZE * batches)\n",
    "    minibatch(x, BATCH_SIZE, xtype=atype)\n",
    "end"
   ]
  },
  {
   "cell_type": "code",
   "execution_count": 6,
   "metadata": {},
   "outputs": [
    {
     "data": {
      "text/plain": [
       "predictfn (generic function with 1 method)"
      ]
     },
     "execution_count": 6,
     "metadata": {},
     "output_type": "execute_result"
    }
   ],
   "source": [
    "# Return features from classifier\n",
    "function predictfn(weights, moments, data)\n",
    "    out = []\n",
    "    for x in data\n",
    "        pred = resnet50(weights, moments, x; stage=5)\n",
    "        push!(out, mat(pred))\n",
    "    end\n",
    "    return Array(hcat(out...))\n",
    "end"
   ]
  },
  {
   "cell_type": "markdown",
   "metadata": {},
   "source": [
    "## 1. GPU"
   ]
  },
  {
   "cell_type": "code",
   "execution_count": 7,
   "metadata": {},
   "outputs": [
    {
     "name": "stderr",
     "output_type": "stream",
     "text": [
      "┌ Info: Loading pretrained weights...\n",
      "└ @ Main.ResNetLib /home/deniz/.julia/dev/Knet/examples/resnet/resnetlib.jl:314\n",
      "┌ Info: Loading imagenet-resnet-50-dag.mat...\n",
      "└ @ Main.ResNetLib /home/deniz/.julia/dev/Knet/data/imagenet.jl:12\n"
     ]
    }
   ],
   "source": [
    "# Initialize resnet weights and fake data\n",
    "gpuweights = gpumoments = nothing; GC.gc(true) # clear memory from previous run\n",
    "gpuweights, gpumoments = resnet50init(;stage=5, trained=true, atype=KnetArray);"
   ]
  },
  {
   "cell_type": "code",
   "execution_count": 8,
   "metadata": {},
   "outputs": [
    {
     "name": "stderr",
     "output_type": "stream",
     "text": [
      "┌ Info: Cold start\n",
      "└ @ Main In[8]:1\n"
     ]
    },
    {
     "name": "stdout",
     "output_type": "stream",
     "text": [
      "  9.099014 seconds (9.68 M allocations: 1.215 GiB, 2.22% gc time)\n"
     ]
    }
   ],
   "source": [
    "@info(\"Cold start\")\n",
    "gpudata1 = fakedata(BATCHES_GPU, atype=KnetArray)\n",
    "@time predictfn(gpuweights, gpumoments, gpudata1);"
   ]
  },
  {
   "cell_type": "code",
   "execution_count": 9,
   "metadata": {},
   "outputs": [
    {
     "name": "stderr",
     "output_type": "stream",
     "text": [
      "┌ Info: Benchmarking\n",
      "└ @ Main In[9]:1\n"
     ]
    },
    {
     "name": "stdout",
     "output_type": "stream",
     "text": [
      "  5.178209 seconds (309.50 k allocations: 757.228 MiB, 3.32% gc time)\n"
     ]
    }
   ],
   "source": [
    "@info(\"Benchmarking\")\n",
    "gpudata = fakedata(BATCHES_GPU, atype=KnetArray)\n",
    "@time predictfn(gpuweights, gpumoments, gpudata);"
   ]
  },
  {
   "cell_type": "markdown",
   "metadata": {},
   "source": [
    "## 2. CPU"
   ]
  },
  {
   "cell_type": "code",
   "execution_count": 10,
   "metadata": {},
   "outputs": [
    {
     "name": "stderr",
     "output_type": "stream",
     "text": [
      "┌ Info: Loading pretrained weights...\n",
      "└ @ Main.ResNetLib /home/deniz/.julia/dev/Knet/examples/resnet/resnetlib.jl:314\n"
     ]
    }
   ],
   "source": [
    "# Initialize resnet weights\n",
    "cpuweights, cpumoments = resnet50init(;stage=5, trained=true, atype=Array);"
   ]
  },
  {
   "cell_type": "code",
   "execution_count": 11,
   "metadata": {},
   "outputs": [
    {
     "name": "stderr",
     "output_type": "stream",
     "text": [
      "┌ Info: Cold start\n",
      "└ @ Main In[11]:1\n",
      "┌ Warning: Pool mode=2 not yet implemented in NNlib, using 1 instead. See https://github.com/FluxML/NNlib.jl/issues/218\n",
      "└ @ Knet.Ops20 /home/deniz/.julia/dev/Knet/src/ops20/conv.jl:174\n"
     ]
    },
    {
     "name": "stdout",
     "output_type": "stream",
     "text": [
      " 13.690795 seconds (24.43 M allocations: 4.981 GiB, 2.40% gc time)\n"
     ]
    }
   ],
   "source": [
    "@info(\"Cold start\")\n",
    "cpudata1 = fakedata(1, atype=Array);\n",
    "@time predictfn(cpuweights, cpumoments, cpudata1);"
   ]
  },
  {
   "cell_type": "code",
   "execution_count": 12,
   "metadata": {},
   "outputs": [
    {
     "name": "stderr",
     "output_type": "stream",
     "text": [
      "┌ Info: Benchmarking\n",
      "└ @ Main In[12]:1\n"
     ]
    },
    {
     "name": "stdout",
     "output_type": "stream",
     "text": [
      " 36.656735 seconds (291.89 k allocations: 30.161 GiB, 2.48% gc time)\n"
     ]
    }
   ],
   "source": [
    "@info(\"Benchmarking\")\n",
    "cpudata = fakedata(BATCHES_CPU, atype=Array);\n",
    "@time predictfn(cpuweights, cpumoments, cpudata);"
   ]
  },
  {
   "cell_type": "code",
   "execution_count": null,
   "metadata": {},
   "outputs": [],
   "source": []
  }
 ],
 "metadata": {
  "kernelspec": {
   "display_name": "Julia 1.5.0",
   "language": "julia",
   "name": "julia-1.5"
  },
  "language_info": {
   "file_extension": ".jl",
   "mimetype": "application/julia",
   "name": "julia",
   "version": "1.5.0"
  }
 },
 "nbformat": 4,
 "nbformat_minor": 2
}
