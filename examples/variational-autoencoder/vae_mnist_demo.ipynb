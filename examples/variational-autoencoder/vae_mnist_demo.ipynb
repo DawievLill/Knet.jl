{
 "cells": [
  {
   "cell_type": "code",
   "execution_count": 6,
   "metadata": {
    "scrolled": true
   },
   "outputs": [
    {
     "name": "stderr",
     "output_type": "stream",
     "text": [
      "WARNING: replacing module VAE.\n"
     ]
    },
    {
     "data": {
      "text/plain": [
       "Main.VAE"
      ]
     },
     "execution_count": 6,
     "metadata": {},
     "output_type": "execute_result"
    }
   ],
   "source": [
    "include(\"vae_mnist.jl\")"
   ]
  },
  {
   "cell_type": "code",
   "execution_count": 7,
   "metadata": {},
   "outputs": [
    {
     "name": "stderr",
     "output_type": "stream",
     "text": [
      "┌ Info: using Knet.KnetArrays.KnetArray{Float32,N} where N\n",
      "└ @ Main.VAE /userfiles/dyuret/.julia/dev/Knet/examples/variational-autoencoder/vae_mnist.jl:124\n",
      "┌ Warning: Knet.seed!() is deprecated, please use Random.seed!() and/or CUDA.seed!() instead\n",
      "└ @ Knet.KnetArrays /userfiles/dyuret/.julia/dev/Knet/src/knetarrays/random.jl:14\n",
      "┌ Warning: optimizers is deprecated, use sgd, adam etc. instead.\n",
      "└ @ Knet.Train20 /userfiles/dyuret/.julia/dev/Knet/src/train20/update.jl:598\n"
     ]
    },
    {
     "name": "stdout",
     "output_type": "stream",
     "text": [
      "(:epoch, 0, :trn, 0.70637995f0, :tst, 0.70648575f0)\n",
      "  0.000006 seconds (1 allocation: 32 bytes)\n"
     ]
    }
   ],
   "source": [
    "# obtain a non-trained network\n",
    "θ, ϕ = VAE.main(\"--infotime 10 --seed 1 --epochs 0\");"
   ]
  },
  {
   "cell_type": "code",
   "execution_count": 8,
   "metadata": {},
   "outputs": [
    {
     "data": {
      "image/png": "[encoded data removed]",
      "text/plain": [
       "146×146 reinterpret(Gray{Float64}, ::Array{Float64,2}):\n",
       " Gray{Float64}(1.0)  Gray{Float64}(1.0)       Gray{Float64}(1.0)       …  Gray{Float64}(1.0)       Gray{Float64}(1.0)\n",
       " Gray{Float64}(1.0)  Gray{Float64}(0.445619)  Gray{Float64}(0.543604)     Gray{Float64}(0.513059)  Gray{Float64}(1.0)\n",
       " Gray{Float64}(1.0)  Gray{Float64}(0.515883)  Gray{Float64}(0.42691)      Gray{Float64}(0.499112)  Gray{Float64}(1.0)\n",
       " Gray{Float64}(1.0)  Gray{Float64}(0.50945)   Gray{Float64}(0.409937)     Gray{Float64}(0.55405)   Gray{Float64}(1.0)\n",
       " Gray{Float64}(1.0)  Gray{Float64}(0.598714)  Gray{Float64}(0.515619)     Gray{Float64}(0.475798)  Gray{Float64}(1.0)\n",
       " Gray{Float64}(1.0)  Gray{Float64}(0.437925)  Gray{Float64}(0.461754)  …  Gray{Float64}(0.502312)  Gray{Float64}(1.0)\n",
       " Gray{Float64}(1.0)  Gray{Float64}(0.567329)  Gray{Float64}(0.527993)     Gray{Float64}(0.482031)  Gray{Float64}(1.0)\n",
       " Gray{Float64}(1.0)  Gray{Float64}(0.436897)  Gray{Float64}(0.539323)     Gray{Float64}(0.53499)   Gray{Float64}(1.0)\n",
       " Gray{Float64}(1.0)  Gray{Float64}(0.510543)  Gray{Float64}(0.583299)     Gray{Float64}(0.422016)  Gray{Float64}(1.0)\n",
       " Gray{Float64}(1.0)  Gray{Float64}(0.585702)  Gray{Float64}(0.566588)     Gray{Float64}(0.538609)  Gray{Float64}(1.0)\n",
       " Gray{Float64}(1.0)  Gray{Float64}(0.55204)   Gray{Float64}(0.605545)  …  Gray{Float64}(0.491104)  Gray{Float64}(1.0)\n",
       " Gray{Float64}(1.0)  Gray{Float64}(0.459609)  Gray{Float64}(0.484834)     Gray{Float64}(0.454441)  Gray{Float64}(1.0)\n",
       " Gray{Float64}(1.0)  Gray{Float64}(0.451461)  Gray{Float64}(0.510547)     Gray{Float64}(0.538403)  Gray{Float64}(1.0)\n",
       " ⋮                                                                     ⋱                           ⋮\n",
       " Gray{Float64}(1.0)  Gray{Float64}(0.497001)  Gray{Float64}(0.387339)     Gray{Float64}(0.489486)  Gray{Float64}(1.0)\n",
       " Gray{Float64}(1.0)  Gray{Float64}(0.523888)  Gray{Float64}(0.398057)  …  Gray{Float64}(0.442674)  Gray{Float64}(1.0)\n",
       " Gray{Float64}(1.0)  Gray{Float64}(0.469385)  Gray{Float64}(0.44594)      Gray{Float64}(0.496706)  Gray{Float64}(1.0)\n",
       " Gray{Float64}(1.0)  Gray{Float64}(0.559378)  Gray{Float64}(0.472571)     Gray{Float64}(0.564986)  Gray{Float64}(1.0)\n",
       " Gray{Float64}(1.0)  Gray{Float64}(0.492218)  Gray{Float64}(0.668065)     Gray{Float64}(0.615993)  Gray{Float64}(1.0)\n",
       " Gray{Float64}(1.0)  Gray{Float64}(0.565066)  Gray{Float64}(0.679773)     Gray{Float64}(0.662044)  Gray{Float64}(1.0)\n",
       " Gray{Float64}(1.0)  Gray{Float64}(0.597521)  Gray{Float64}(0.429986)  …  Gray{Float64}(0.485556)  Gray{Float64}(1.0)\n",
       " Gray{Float64}(1.0)  Gray{Float64}(0.547132)  Gray{Float64}(0.467012)     Gray{Float64}(0.550426)  Gray{Float64}(1.0)\n",
       " Gray{Float64}(1.0)  Gray{Float64}(0.625987)  Gray{Float64}(0.55185)      Gray{Float64}(0.455681)  Gray{Float64}(1.0)\n",
       " Gray{Float64}(1.0)  Gray{Float64}(0.601543)  Gray{Float64}(0.576886)     Gray{Float64}(0.406191)  Gray{Float64}(1.0)\n",
       " Gray{Float64}(1.0)  Gray{Float64}(0.419895)  Gray{Float64}(0.655094)     Gray{Float64}(0.492674)  Gray{Float64}(1.0)\n",
       " Gray{Float64}(1.0)  Gray{Float64}(1.0)       Gray{Float64}(1.0)       …  Gray{Float64}(1.0)       Gray{Float64}(1.0)"
      ]
     },
     "metadata": {},
     "output_type": "display_data"
    }
   ],
   "source": [
    "# generate examples with the non-trained network\n",
    "VAE.plot_dream(θ);"
   ]
  },
  {
   "cell_type": "code",
   "execution_count": 9,
   "metadata": {},
   "outputs": [
    {
     "name": "stderr",
     "output_type": "stream",
     "text": [
      "┌ Info: using Knet.KnetArrays.KnetArray{Float32,N} where N\n",
      "└ @ Main.VAE /userfiles/dyuret/.julia/dev/Knet/examples/variational-autoencoder/vae_mnist.jl:124\n"
     ]
    },
    {
     "name": "stdout",
     "output_type": "stream",
     "text": [
      "(:epoch, 0, :trn, 0.7053908f0, :tst, 0.70541817f0)\n",
      "  9.281702 seconds (16.17 M allocations: 1.003 GiB, 2.86% gc time)\n",
      "  2.167231 seconds (2.83 M allocations: 319.190 MiB, 4.59% gc time)\n",
      "  2.100642 seconds (2.83 M allocations: 319.225 MiB, 4.31% gc time)\n",
      "  2.107456 seconds (2.83 M allocations: 319.090 MiB, 4.35% gc time)\n",
      "  2.144130 seconds (2.83 M allocations: 319.340 MiB, 4.35% gc time)\n",
      "  2.147593 seconds (2.84 M allocations: 315.577 MiB, 4.40% gc time)\n",
      "  2.269634 seconds (2.84 M allocations: 322.220 MiB, 3.60% gc time)\n",
      "  2.093971 seconds (2.83 M allocations: 320.735 MiB, 3.69% gc time)\n",
      "  2.098239 seconds (2.83 M allocations: 320.476 MiB, 3.73% gc time)\n",
      "  2.101958 seconds (2.83 M allocations: 322.573 MiB, 3.75% gc time)\n",
      "(:epoch, 10, :trn, 0.13488092f0, :tst, 0.13478458f0)\n",
      "  2.123136 seconds (2.84 M allocations: 323.092 MiB, 4.05% gc time)\n",
      "  2.090406 seconds (2.83 M allocations: 320.456 MiB, 3.73% gc time)\n",
      "  2.104720 seconds (2.83 M allocations: 322.524 MiB, 3.75% gc time)\n",
      "  2.122930 seconds (2.83 M allocations: 320.703 MiB, 4.35% gc time)\n",
      "  2.101943 seconds (2.83 M allocations: 320.504 MiB, 3.67% gc time)\n",
      "  2.091479 seconds (2.83 M allocations: 322.518 MiB, 3.72% gc time)\n",
      "  2.101369 seconds (2.83 M allocations: 320.765 MiB, 3.69% gc time)\n",
      "  2.120834 seconds (2.83 M allocations: 321.486 MiB, 3.65% gc time)\n",
      "  2.092177 seconds (2.83 M allocations: 320.455 MiB, 3.71% gc time)\n",
      "  2.100454 seconds (2.83 M allocations: 321.679 MiB, 3.72% gc time)\n",
      "(:epoch, 20, :trn, 0.1323018f0, :tst, 0.13223346f0)\n",
      "  2.102007 seconds (2.84 M allocations: 320.840 MiB, 4.16% gc time)\n",
      "  2.098071 seconds (2.83 M allocations: 321.403 MiB, 3.76% gc time)\n",
      "  2.079265 seconds (2.83 M allocations: 321.803 MiB, 3.75% gc time)\n",
      "  2.086382 seconds (2.83 M allocations: 320.431 MiB, 3.68% gc time)\n",
      "  2.084014 seconds (2.83 M allocations: 321.547 MiB, 3.82% gc time)\n",
      "  2.085661 seconds (2.83 M allocations: 321.699 MiB, 3.77% gc time)\n",
      "  2.088255 seconds (2.83 M allocations: 320.530 MiB, 3.74% gc time)\n",
      "  2.087863 seconds (2.83 M allocations: 322.550 MiB, 3.68% gc time)\n",
      "  2.090481 seconds (2.83 M allocations: 320.816 MiB, 3.73% gc time)\n",
      "  2.082940 seconds (2.83 M allocations: 320.862 MiB, 3.72% gc time)\n",
      "(:epoch, 30, :trn, 0.13125959f0, :tst, 0.13134156f0)\n",
      "  2.112440 seconds (2.84 M allocations: 321.861 MiB, 4.09% gc time)\n",
      "  2.106074 seconds (2.83 M allocations: 321.127 MiB, 4.20% gc time)\n",
      "  2.092650 seconds (2.83 M allocations: 322.108 MiB, 3.75% gc time)\n",
      "  2.083087 seconds (2.83 M allocations: 320.457 MiB, 3.78% gc time)\n",
      "  2.117402 seconds (2.83 M allocations: 321.280 MiB, 3.82% gc time)\n",
      "  2.104109 seconds (2.83 M allocations: 321.938 MiB, 3.92% gc time)\n",
      "  2.093143 seconds (2.83 M allocations: 320.503 MiB, 3.71% gc time)\n",
      "  2.091964 seconds (2.83 M allocations: 321.143 MiB, 3.78% gc time)\n",
      "  2.097366 seconds (2.83 M allocations: 321.079 MiB, 3.76% gc time)\n",
      "  2.082766 seconds (2.83 M allocations: 320.903 MiB, 3.75% gc time)\n",
      "(:epoch, 40, :trn, 0.13039438f0, :tst, 0.13061203f0)\n",
      "  2.114687 seconds (2.84 M allocations: 322.143 MiB, 4.13% gc time)\n",
      "  2.100009 seconds (2.83 M allocations: 320.896 MiB, 3.75% gc time)\n",
      "  2.152175 seconds (2.83 M allocations: 321.026 MiB, 3.72% gc time)\n",
      "  2.078372 seconds (2.83 M allocations: 321.173 MiB, 3.78% gc time)\n",
      "  2.088040 seconds (2.83 M allocations: 321.078 MiB, 3.71% gc time)\n",
      "  2.112582 seconds (2.83 M allocations: 320.904 MiB, 4.03% gc time)\n",
      "  2.098157 seconds (2.83 M allocations: 322.399 MiB, 3.78% gc time)\n",
      "  2.097118 seconds (2.83 M allocations: 320.364 MiB, 3.79% gc time)\n",
      "  2.083830 seconds (2.83 M allocations: 321.071 MiB, 3.76% gc time)\n",
      "  2.121329 seconds (2.83 M allocations: 322.137 MiB, 4.51% gc time)\n",
      "(:epoch, 50, :trn, 0.12971756f0, :tst, 0.12988107f0)\n",
      "  2.113843 seconds (2.84 M allocations: 322.891 MiB, 4.20% gc time)\n",
      "  2.091282 seconds (2.83 M allocations: 320.374 MiB, 3.76% gc time)\n",
      "  2.465354 seconds (2.83 M allocations: 322.853 MiB, 3.80% gc time)\n",
      "  2.072652 seconds (2.83 M allocations: 320.355 MiB, 3.81% gc time)\n",
      "  2.079200 seconds (2.83 M allocations: 321.112 MiB, 3.90% gc time)\n",
      "  2.089252 seconds (2.83 M allocations: 322.152 MiB, 4.24% gc time)\n",
      "  2.071924 seconds (2.83 M allocations: 320.604 MiB, 3.84% gc time)\n",
      "  2.065701 seconds (2.83 M allocations: 320.847 MiB, 3.88% gc time)\n",
      "  2.072664 seconds (2.83 M allocations: 322.366 MiB, 3.87% gc time)\n",
      "  2.072853 seconds (2.83 M allocations: 320.353 MiB, 4.08% gc time)\n",
      "(:epoch, 60, :trn, 0.12947303f0, :tst, 0.12980783f0)\n",
      "  2.110568 seconds (2.84 M allocations: 321.802 MiB, 4.18% gc time)\n",
      "  2.095072 seconds (2.83 M allocations: 320.658 MiB, 3.71% gc time)\n",
      "  2.087658 seconds (2.83 M allocations: 322.623 MiB, 4.27% gc time)\n",
      "  2.072171 seconds (2.83 M allocations: 320.310 MiB, 3.80% gc time)\n",
      "  2.116010 seconds (2.83 M allocations: 321.336 MiB, 3.78% gc time)\n",
      "  2.070110 seconds (2.83 M allocations: 321.960 MiB, 3.81% gc time)\n",
      "  2.092866 seconds (2.83 M allocations: 320.542 MiB, 4.36% gc time)\n",
      "  2.071045 seconds (2.83 M allocations: 321.116 MiB, 3.92% gc time)\n",
      "  2.078539 seconds (2.83 M allocations: 322.148 MiB, 3.83% gc time)\n",
      "  2.101195 seconds (2.83 M allocations: 320.307 MiB, 3.83% gc time)\n",
      "(:epoch, 70, :trn, 0.12920548f0, :tst, 0.12970866f0)\n",
      "  2.090822 seconds (2.84 M allocations: 322.116 MiB, 4.19% gc time)\n",
      "  2.113635 seconds (2.83 M allocations: 320.483 MiB, 3.78% gc time)\n",
      "  2.426780 seconds (2.83 M allocations: 322.584 MiB, 4.07% gc time)\n",
      "  2.749562 seconds (2.83 M allocations: 320.613 MiB, 6.76% gc time)\n",
      "  2.280789 seconds (2.83 M allocations: 321.137 MiB, 6.48% gc time)\n",
      "  2.228493 seconds (2.83 M allocations: 321.905 MiB, 6.28% gc time)\n",
      "  2.220434 seconds (2.83 M allocations: 320.805 MiB, 5.34% gc time)\n",
      "  2.119437 seconds (2.83 M allocations: 320.941 MiB, 4.54% gc time)\n",
      "  2.196007 seconds (2.83 M allocations: 322.100 MiB, 4.78% gc time)\n",
      "  2.116806 seconds (2.83 M allocations: 320.613 MiB, 4.93% gc time)\n",
      "(:epoch, 80, :trn, 0.12870419f0, :tst, 0.12912124f0)\n",
      "  2.137205 seconds (2.84 M allocations: 321.862 MiB, 5.24% gc time)\n",
      "  2.120650 seconds (2.83 M allocations: 320.434 MiB, 4.12% gc time)\n",
      "  2.148784 seconds (2.83 M allocations: 322.868 MiB, 4.87% gc time)\n",
      "  2.103862 seconds (2.83 M allocations: 320.384 MiB, 4.85% gc time)\n",
      "  2.088477 seconds (2.83 M allocations: 321.086 MiB, 4.44% gc time)\n",
      "  2.088086 seconds (2.83 M allocations: 322.148 MiB, 4.03% gc time)\n",
      "  2.080433 seconds (2.83 M allocations: 320.598 MiB, 3.94% gc time)\n",
      "  2.125616 seconds (2.83 M allocations: 320.900 MiB, 4.13% gc time)\n",
      "  2.135632 seconds (2.83 M allocations: 322.362 MiB, 4.64% gc time)\n",
      "  2.076432 seconds (2.83 M allocations: 320.366 MiB, 3.90% gc time)\n",
      "(:epoch, 90, :trn, 0.12860659f0, :tst, 0.12912688f0)\n",
      "  2.105192 seconds (2.84 M allocations: 321.859 MiB, 4.66% gc time)\n",
      "  2.085349 seconds (2.83 M allocations: 320.698 MiB, 4.01% gc time)\n",
      "  2.258102 seconds (2.83 M allocations: 322.648 MiB, 4.83% gc time)\n",
      "  2.079903 seconds (2.83 M allocations: 320.328 MiB, 4.20% gc time)\n",
      "  2.088581 seconds (2.83 M allocations: 321.351 MiB, 4.12% gc time)\n",
      "  2.078931 seconds (2.83 M allocations: 321.939 MiB, 4.10% gc time)\n",
      "  2.097077 seconds (2.83 M allocations: 320.568 MiB, 4.09% gc time)\n",
      "  2.139076 seconds (2.83 M allocations: 321.137 MiB, 4.27% gc time)\n",
      "  2.083479 seconds (2.83 M allocations: 322.171 MiB, 4.12% gc time)\n",
      "  2.081282 seconds (2.83 M allocations: 320.335 MiB, 4.10% gc time)\n",
      "(:epoch, 100, :trn, 0.12826335f0, :tst, 0.12882586f0)\n",
      "226.055841 seconds (300.71 M allocations: 34.309 GiB, 4.53% gc time)\n"
     ]
    }
   ],
   "source": [
    "# train a VAE network for 100 epochs\n",
    "θ, ϕ = VAE.main(\"--infotime 10 --seed 1 --epochs 100\"); # 184s, 0.12784874f0, 0.128488f0"
   ]
  },
  {
   "cell_type": "code",
   "execution_count": 10,
   "metadata": {},
   "outputs": [
    {
     "data": {
      "image/png": "[encoded data removed]",
      "text/plain": [
       "146×146 reinterpret(Gray{Float64}, ::Array{Float64,2}):\n",
       " Gray{Float64}(1.0)  Gray{Float64}(1.0)          Gray{Float64}(1.0)          …  Gray{Float64}(1.0)          Gray{Float64}(1.0)\n",
       " Gray{Float64}(1.0)  Gray{Float64}(2.52476e-11)  Gray{Float64}(5.27689e-11)     Gray{Float64}(1.80451e-11)  Gray{Float64}(1.0)\n",
       " Gray{Float64}(1.0)  Gray{Float64}(4.09105e-11)  Gray{Float64}(4.99031e-11)     Gray{Float64}(1.68937e-11)  Gray{Float64}(1.0)\n",
       " Gray{Float64}(1.0)  Gray{Float64}(6.1531e-11)   Gray{Float64}(4.36541e-11)     Gray{Float64}(2.65743e-11)  Gray{Float64}(1.0)\n",
       " Gray{Float64}(1.0)  Gray{Float64}(2.94292e-11)  Gray{Float64}(3.43917e-11)     Gray{Float64}(7.44984e-12)  Gray{Float64}(1.0)\n",
       " Gray{Float64}(1.0)  Gray{Float64}(4.72131e-11)  Gray{Float64}(4.71578e-12)  …  Gray{Float64}(9.29898e-12)  Gray{Float64}(1.0)\n",
       " Gray{Float64}(1.0)  Gray{Float64}(2.2572e-11)   Gray{Float64}(4.25864e-11)     Gray{Float64}(2.18581e-12)  Gray{Float64}(1.0)\n",
       " Gray{Float64}(1.0)  Gray{Float64}(1.95112e-11)  Gray{Float64}(3.36979e-14)     Gray{Float64}(5.03906e-12)  Gray{Float64}(1.0)\n",
       " Gray{Float64}(1.0)  Gray{Float64}(8.91265e-14)  Gray{Float64}(1.61557e-9)      Gray{Float64}(1.88127e-11)  Gray{Float64}(1.0)\n",
       " Gray{Float64}(1.0)  Gray{Float64}(2.56594e-15)  Gray{Float64}(2.41931e-8)      Gray{Float64}(9.18189e-13)  Gray{Float64}(1.0)\n",
       " Gray{Float64}(1.0)  Gray{Float64}(1.38691e-12)  Gray{Float64}(6.82056e-7)   …  Gray{Float64}(3.28399e-13)  Gray{Float64}(1.0)\n",
       " Gray{Float64}(1.0)  Gray{Float64}(5.14296e-14)  Gray{Float64}(3.47703e-7)      Gray{Float64}(3.29702e-16)  Gray{Float64}(1.0)\n",
       " Gray{Float64}(1.0)  Gray{Float64}(1.45658e-12)  Gray{Float64}(6.0859e-7)       Gray{Float64}(9.25861e-19)  Gray{Float64}(1.0)\n",
       " ⋮                                                                           ⋱                              ⋮\n",
       " Gray{Float64}(1.0)  Gray{Float64}(4.03956e-10)  Gray{Float64}(1.60528e-7)      Gray{Float64}(6.84721e-10)  Gray{Float64}(1.0)\n",
       " Gray{Float64}(1.0)  Gray{Float64}(6.51118e-10)  Gray{Float64}(9.1364e-8)    …  Gray{Float64}(1.48245e-6)   Gray{Float64}(1.0)\n",
       " Gray{Float64}(1.0)  Gray{Float64}(4.97066e-11)  Gray{Float64}(6.70637e-8)      Gray{Float64}(3.33928e-7)   Gray{Float64}(1.0)\n",
       " Gray{Float64}(1.0)  Gray{Float64}(1.80014e-10)  Gray{Float64}(1.19052e-8)      Gray{Float64}(2.54169e-15)  Gray{Float64}(1.0)\n",
       " Gray{Float64}(1.0)  Gray{Float64}(2.8745e-9)    Gray{Float64}(2.99975e-16)     Gray{Float64}(1.17471e-18)  Gray{Float64}(1.0)\n",
       " Gray{Float64}(1.0)  Gray{Float64}(2.81536e-9)   Gray{Float64}(1.53585e-6)      Gray{Float64}(5.81835e-20)  Gray{Float64}(1.0)\n",
       " Gray{Float64}(1.0)  Gray{Float64}(2.88487e-10)  Gray{Float64}(3.23944e-10)  …  Gray{Float64}(1.93025e-12)  Gray{Float64}(1.0)\n",
       " Gray{Float64}(1.0)  Gray{Float64}(2.16712e-10)  Gray{Float64}(1.68463e-10)     Gray{Float64}(2.22552e-12)  Gray{Float64}(1.0)\n",
       " Gray{Float64}(1.0)  Gray{Float64}(2.04646e-10)  Gray{Float64}(1.87447e-10)     Gray{Float64}(2.47711e-12)  Gray{Float64}(1.0)\n",
       " Gray{Float64}(1.0)  Gray{Float64}(1.21368e-10)  Gray{Float64}(1.66028e-10)     Gray{Float64}(2.92106e-12)  Gray{Float64}(1.0)\n",
       " Gray{Float64}(1.0)  Gray{Float64}(1.88342e-10)  Gray{Float64}(2.58343e-10)     Gray{Float64}(9.13372e-13)  Gray{Float64}(1.0)\n",
       " Gray{Float64}(1.0)  Gray{Float64}(1.0)          Gray{Float64}(1.0)          …  Gray{Float64}(1.0)          Gray{Float64}(1.0)"
      ]
     },
     "metadata": {},
     "output_type": "display_data"
    }
   ],
   "source": [
    "# generate examples with the trained network\n",
    "VAE.plot_dream(θ);"
   ]
  }
 ],
 "metadata": {
  "kernelspec": {
   "display_name": "Julia 1.5.0",
   "language": "julia",
   "name": "julia-1.5"
  },
  "language_info": {
   "file_extension": ".jl",
   "mimetype": "application/julia",
   "name": "julia",
   "version": "1.5.0"
  }
 },
 "nbformat": 4,
 "nbformat_minor": 2
}
